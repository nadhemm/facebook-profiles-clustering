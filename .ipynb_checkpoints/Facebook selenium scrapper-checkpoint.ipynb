{
 "cells": [
  {
   "cell_type": "code",
   "execution_count": 1,
   "metadata": {},
   "outputs": [],
   "source": [
    "from selenium import webdriver\n",
    "import sys,os,os.path\n",
    "import json\n",
    "import time\n",
    "import random\n",
    "import json"
   ]
  },
  {
   "cell_type": "code",
   "execution_count": 19,
   "metadata": {},
   "outputs": [],
   "source": [
    "#sys.path.append(os.path.expanduser('/home/nad/geckodriver'))\n",
    "os.environ['PATH']+=':'+'/home/nad/geckodriver'\n",
    "browser = webdriver.Firefox()\n",
    "browser.implicitly_wait(10)"
   ]
  },
  {
   "cell_type": "code",
   "execution_count": 20,
   "metadata": {},
   "outputs": [],
   "source": [
    "browser.get('https://www.facebook.com/nadhemm')"
   ]
  },
  {
   "cell_type": "code",
   "execution_count": 26,
   "metadata": {},
   "outputs": [],
   "source": [
    "def extract_personal_info(name):\n",
    "    info = {}\n",
    "    positions = []\n",
    "    prev_schools = []\n",
    "    for el in browser.find_elements_by_class_name(\"textContent\"):\n",
    "        text = el.text\n",
    "        split = text.split(\" at \")\n",
    "        if len(split)>1:\n",
    "            if \"Studies\" in text:                \n",
    "                info['school'] = split[1]\n",
    "                if \"Studies at\" not in text: # we can extract the field\n",
    "                    info['field'] = split[0][len(\"Studies \"):]\n",
    "            elif \"Studied\" in text:\n",
    "                prev_studies = {}\n",
    "                prev_studies['prev_school'] = split[1]\n",
    "                if \"Studied at\" not in text: # we can extract the field\n",
    "                    prev_studies['prev_field'] = split[0][len(\"Studied \"):]\n",
    "                prev_schools.append(prev_studies)\n",
    "            else:\n",
    "                positions.append({'position': split[0] ,\n",
    "                                 'organization': split[1]})\n",
    "        elif \"Went to \" in text:\n",
    "            prev_schools.append({'prev_school':text[len(\"Went to \"):]})\n",
    "        elif \"Lives in \" in text:\n",
    "            info['address'] = text[len(\"Lives in \"):]\n",
    "        elif \"From \" in text:\n",
    "            info['birth_address'] = text[len(\"From \"):]        \n",
    "        elif \"Followed by \" in text:\n",
    "            try:\n",
    "                info['nb_followers'] = text.split()[2]        \n",
    "            except Exception as e:\n",
    "                print(\"Cannot extract followers, details:\", e)\n",
    "    info['positions'] = positions\n",
    "    info['prev_schools'] = prev_schools\n",
    "    return info"
   ]
  },
  {
   "cell_type": "code",
   "execution_count": 22,
   "metadata": {},
   "outputs": [],
   "source": [
    "def extract_name():\n",
    "    return browser.find_element_by_id(\"fb-timeline-cover-name\").text"
   ]
  },
  {
   "cell_type": "code",
   "execution_count": 23,
   "metadata": {},
   "outputs": [],
   "source": [
    "with open('friends_links.json', 'r') as f:\n",
    "    links = json.load(f)['friends']"
   ]
  },
  {
   "cell_type": "code",
   "execution_count": null,
   "metadata": {},
   "outputs": [
    {
     "name": "stdout",
     "output_type": "stream",
     "text": [
      "Processing profile 121 out of 140\n",
      "Processing profile 122 out of 140\n",
      "Processing profile 123 out of 140\n",
      "Processing profile 124 out of 140\n",
      "Processing profile 125 out of 140\n",
      "Processing profile 126 out of 140\n",
      "Processing profile 127 out of 140\n",
      "Processing profile 128 out of 140\n",
      "Processing profile 129 out of 140\n"
     ]
    }
   ],
   "source": [
    "profiles = []\n",
    "start,end = 121,140\n",
    "cnt = start\n",
    "for link in links[start:end+1]:\n",
    "    print(\"Processing profile\", cnt, \"out of\", end)\n",
    "    profile = {}\n",
    "    try:\n",
    "        browser.get(link)\n",
    "        try:\n",
    "            name = extract_name()\n",
    "            profile['name'] = name\n",
    "            try:\n",
    "                profile.update(extract_personal_info(name))\n",
    "            except Exception as e:\n",
    "                print(\"Error occurred while extracting info from user %s, details:\"%name, e)\n",
    "        except Exception as e:\n",
    "            print(\"Error occurred while extracting name, link:\\n %s\\n  details:\"%link, e)\n",
    "    except Exception as e:\n",
    "        print(\"Invalid link\", link)\n",
    "    profiles.append(profile)\n",
    "    cnt+=1\n",
    "    if cnt %20 ==0:\n",
    "        with open('friends_data/friends_data_page'+str(int(cnt/20))+'.json', 'w') as f:\n",
    "            json.dump(profiles, f, ensure_ascii=False)\n",
    "        profiles =[]\n",
    "    time.sleep(1+random.random())\n",
    "    if cnt%10 == 0:\n",
    "        time.sleep(5)\n",
    "        "
   ]
  },
  {
   "cell_type": "code",
   "execution_count": 30,
   "metadata": {},
   "outputs": [
    {
     "data": {
      "text/plain": [
       "'https://www.facebook.com/Ahmed.Amine15?fref=pb&hc_location=friends_tab'"
      ]
     },
     "execution_count": 30,
     "metadata": {},
     "output_type": "execute_result"
    }
   ],
   "source": [
    "links[61]"
   ]
  },
  {
   "cell_type": "code",
   "execution_count": 16,
   "metadata": {},
   "outputs": [],
   "source": [
    "with open('friends_data.json', 'w') as f:\n",
    "    json.dump(profiles, f, ensure_ascii=False)"
   ]
  },
  {
   "cell_type": "code",
   "execution_count": 102,
   "metadata": {},
   "outputs": [],
   "source": [
    "import pandas\n",
    "df = pandas.read_json('friends_data.json')\n"
   ]
  },
  {
   "cell_type": "code",
   "execution_count": 103,
   "metadata": {},
   "outputs": [
    {
     "data": {
      "text/html": [
       "<div>\n",
       "<style scoped>\n",
       "    .dataframe tbody tr th:only-of-type {\n",
       "        vertical-align: middle;\n",
       "    }\n",
       "\n",
       "    .dataframe tbody tr th {\n",
       "        vertical-align: top;\n",
       "    }\n",
       "\n",
       "    .dataframe thead th {\n",
       "        text-align: right;\n",
       "    }\n",
       "</style>\n",
       "<table border=\"1\" class=\"dataframe\">\n",
       "  <thead>\n",
       "    <tr style=\"text-align: right;\">\n",
       "      <th></th>\n",
       "      <th>address</th>\n",
       "      <th>birth_address</th>\n",
       "      <th>name</th>\n",
       "      <th>positions</th>\n",
       "      <th>prev_schools</th>\n",
       "    </tr>\n",
       "  </thead>\n",
       "  <tbody>\n",
       "    <tr>\n",
       "      <th>0</th>\n",
       "      <td>Munich, Germany</td>\n",
       "      <td>Sfax</td>\n",
       "      <td>Nassim Walha</td>\n",
       "      <td>[{u'position': u'Contestant.', u'organization'...</td>\n",
       "      <td>[{u'prev_field': u'Mathematik', u'prev_school'...</td>\n",
       "    </tr>\n",
       "  </tbody>\n",
       "</table>\n",
       "</div>"
      ],
      "text/plain": [
       "           address birth_address          name  \\\n",
       "0  Munich, Germany          Sfax  Nassim Walha   \n",
       "\n",
       "                                           positions  \\\n",
       "0  [{u'position': u'Contestant.', u'organization'...   \n",
       "\n",
       "                                        prev_schools  \n",
       "0  [{u'prev_field': u'Mathematik', u'prev_school'...  "
      ]
     },
     "execution_count": 103,
     "metadata": {},
     "output_type": "execute_result"
    }
   ],
   "source": [
    "df"
   ]
  },
  {
   "cell_type": "code",
   "execution_count": 105,
   "metadata": {},
   "outputs": [],
   "source": [
    "from pandas.io.json import json_normalize  "
   ]
  },
  {
   "cell_type": "code",
   "execution_count": 19,
   "metadata": {
    "scrolled": true
   },
   "outputs": [],
   "source": [
    "friends_data = []\n",
    "for i in range(1,8):\n",
    "    with open('friends_data/friends_data_page' + str(i) + '.json', 'r') as f:\n",
    "        friends_data += json.load(f)"
   ]
  },
  {
   "cell_type": "code",
   "execution_count": 20,
   "metadata": {},
   "outputs": [],
   "source": [
    "with open('friends_data/friends_data_all.json', 'w') as f:\n",
    "    json.dump(friends_data, f, ensure_ascii=False)"
   ]
  }
 ],
 "metadata": {
  "kernelspec": {
   "display_name": "Python 3",
   "language": "python",
   "name": "python3"
  },
  "language_info": {
   "codemirror_mode": {
    "name": "ipython",
    "version": 3
   },
   "file_extension": ".py",
   "mimetype": "text/x-python",
   "name": "python",
   "nbconvert_exporter": "python",
   "pygments_lexer": "ipython3",
   "version": "3.6.7"
  }
 },
 "nbformat": 4,
 "nbformat_minor": 2
}
